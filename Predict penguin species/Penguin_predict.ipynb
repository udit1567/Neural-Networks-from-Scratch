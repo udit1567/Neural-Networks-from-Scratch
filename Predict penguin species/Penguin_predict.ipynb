{
 "cells": [
  {
   "cell_type": "code",
   "execution_count": 1,
   "id": "a4284571-d2ba-4186-90f1-e5296e0da7f4",
   "metadata": {},
   "outputs": [
    {
     "name": "stdout",
     "output_type": "stream",
     "text": [
      "  species     island  bill_length_mm  bill_depth_mm  flipper_length_mm  \\\n",
      "0  Adelie  Torgersen            39.1           18.7              181.0   \n",
      "1  Adelie  Torgersen            39.5           17.4              186.0   \n",
      "2  Adelie  Torgersen            40.3           18.0              195.0   \n",
      "3  Adelie  Torgersen             NaN            NaN                NaN   \n",
      "4  Adelie  Torgersen            36.7           19.3              193.0   \n",
      "\n",
      "   body_mass_g     sex  \n",
      "0       3750.0    Male  \n",
      "1       3800.0  Female  \n",
      "2       3250.0  Female  \n",
      "3          NaN     NaN  \n",
      "4       3450.0  Female  \n"
     ]
    }
   ],
   "source": [
    "import seaborn as sns\n",
    "import pandas as pd\n",
    "import torch\n",
    "import torch.nn as nn\n",
    "import numpy as np\n",
    "from sklearn.preprocessing import StandardScaler\n",
    "from sklearn.model_selection import train_test_split\n",
    "import torch.nn.functional as F\n",
    "\n",
    "iris = sns.load_dataset('penguins')\n",
    "df = pd.DataFrame(iris)\n",
    "\n",
    "print(df.head())"
   ]
  },
  {
   "cell_type": "code",
   "execution_count": 2,
   "id": "91f80d8e-dc1a-40ac-baef-0985b0aa0e5e",
   "metadata": {},
   "outputs": [
    {
     "data": {
      "text/plain": [
       "array(['Torgersen', 'Biscoe', 'Dream'], dtype=object)"
      ]
     },
     "execution_count": 2,
     "metadata": {},
     "output_type": "execute_result"
    }
   ],
   "source": [
    "df[\"island\"].unique()"
   ]
  },
  {
   "cell_type": "code",
   "execution_count": 3,
   "id": "e5f0c0fd-37cf-40fa-a72e-68b15f4f4671",
   "metadata": {},
   "outputs": [],
   "source": [
    "df[\"species\"] = df[\"species\"].map({'Adelie':0,'Chinstrap':1,'Gentoo':2})"
   ]
  },
  {
   "cell_type": "code",
   "execution_count": 4,
   "id": "538e955f-3879-4d43-98f8-c6147a915472",
   "metadata": {},
   "outputs": [],
   "source": [
    "df[\"island\"] = df[\"island\"].map({'Torgersen':0,'Biscoe':1,'Dream':2})\n",
    "df[\"sex\"] = df[\"sex\"].map({'Male':0,'Female':1})"
   ]
  },
  {
   "cell_type": "code",
   "execution_count": 5,
   "id": "e4730bbb-6d20-44e2-b2cc-c9a0a7995440",
   "metadata": {},
   "outputs": [],
   "source": [
    "df = df.dropna()"
   ]
  },
  {
   "cell_type": "code",
   "execution_count": 6,
   "id": "5d9d725a-6ded-499d-abe3-065a1955cf4b",
   "metadata": {},
   "outputs": [
    {
     "data": {
      "text/html": [
       "<div>\n",
       "<style scoped>\n",
       "    .dataframe tbody tr th:only-of-type {\n",
       "        vertical-align: middle;\n",
       "    }\n",
       "\n",
       "    .dataframe tbody tr th {\n",
       "        vertical-align: top;\n",
       "    }\n",
       "\n",
       "    .dataframe thead th {\n",
       "        text-align: right;\n",
       "    }\n",
       "</style>\n",
       "<table border=\"1\" class=\"dataframe\">\n",
       "  <thead>\n",
       "    <tr style=\"text-align: right;\">\n",
       "      <th></th>\n",
       "      <th>species</th>\n",
       "      <th>island</th>\n",
       "      <th>bill_length_mm</th>\n",
       "      <th>bill_depth_mm</th>\n",
       "      <th>flipper_length_mm</th>\n",
       "      <th>body_mass_g</th>\n",
       "      <th>sex</th>\n",
       "    </tr>\n",
       "  </thead>\n",
       "  <tbody>\n",
       "    <tr>\n",
       "      <th>0</th>\n",
       "      <td>0</td>\n",
       "      <td>0</td>\n",
       "      <td>39.1</td>\n",
       "      <td>18.7</td>\n",
       "      <td>181.0</td>\n",
       "      <td>3750.0</td>\n",
       "      <td>0.0</td>\n",
       "    </tr>\n",
       "    <tr>\n",
       "      <th>1</th>\n",
       "      <td>0</td>\n",
       "      <td>0</td>\n",
       "      <td>39.5</td>\n",
       "      <td>17.4</td>\n",
       "      <td>186.0</td>\n",
       "      <td>3800.0</td>\n",
       "      <td>1.0</td>\n",
       "    </tr>\n",
       "    <tr>\n",
       "      <th>2</th>\n",
       "      <td>0</td>\n",
       "      <td>0</td>\n",
       "      <td>40.3</td>\n",
       "      <td>18.0</td>\n",
       "      <td>195.0</td>\n",
       "      <td>3250.0</td>\n",
       "      <td>1.0</td>\n",
       "    </tr>\n",
       "    <tr>\n",
       "      <th>4</th>\n",
       "      <td>0</td>\n",
       "      <td>0</td>\n",
       "      <td>36.7</td>\n",
       "      <td>19.3</td>\n",
       "      <td>193.0</td>\n",
       "      <td>3450.0</td>\n",
       "      <td>1.0</td>\n",
       "    </tr>\n",
       "    <tr>\n",
       "      <th>5</th>\n",
       "      <td>0</td>\n",
       "      <td>0</td>\n",
       "      <td>39.3</td>\n",
       "      <td>20.6</td>\n",
       "      <td>190.0</td>\n",
       "      <td>3650.0</td>\n",
       "      <td>0.0</td>\n",
       "    </tr>\n",
       "    <tr>\n",
       "      <th>...</th>\n",
       "      <td>...</td>\n",
       "      <td>...</td>\n",
       "      <td>...</td>\n",
       "      <td>...</td>\n",
       "      <td>...</td>\n",
       "      <td>...</td>\n",
       "      <td>...</td>\n",
       "    </tr>\n",
       "    <tr>\n",
       "      <th>338</th>\n",
       "      <td>2</td>\n",
       "      <td>1</td>\n",
       "      <td>47.2</td>\n",
       "      <td>13.7</td>\n",
       "      <td>214.0</td>\n",
       "      <td>4925.0</td>\n",
       "      <td>1.0</td>\n",
       "    </tr>\n",
       "    <tr>\n",
       "      <th>340</th>\n",
       "      <td>2</td>\n",
       "      <td>1</td>\n",
       "      <td>46.8</td>\n",
       "      <td>14.3</td>\n",
       "      <td>215.0</td>\n",
       "      <td>4850.0</td>\n",
       "      <td>1.0</td>\n",
       "    </tr>\n",
       "    <tr>\n",
       "      <th>341</th>\n",
       "      <td>2</td>\n",
       "      <td>1</td>\n",
       "      <td>50.4</td>\n",
       "      <td>15.7</td>\n",
       "      <td>222.0</td>\n",
       "      <td>5750.0</td>\n",
       "      <td>0.0</td>\n",
       "    </tr>\n",
       "    <tr>\n",
       "      <th>342</th>\n",
       "      <td>2</td>\n",
       "      <td>1</td>\n",
       "      <td>45.2</td>\n",
       "      <td>14.8</td>\n",
       "      <td>212.0</td>\n",
       "      <td>5200.0</td>\n",
       "      <td>1.0</td>\n",
       "    </tr>\n",
       "    <tr>\n",
       "      <th>343</th>\n",
       "      <td>2</td>\n",
       "      <td>1</td>\n",
       "      <td>49.9</td>\n",
       "      <td>16.1</td>\n",
       "      <td>213.0</td>\n",
       "      <td>5400.0</td>\n",
       "      <td>0.0</td>\n",
       "    </tr>\n",
       "  </tbody>\n",
       "</table>\n",
       "<p>333 rows × 7 columns</p>\n",
       "</div>"
      ],
      "text/plain": [
       "     species  island  bill_length_mm  bill_depth_mm  flipper_length_mm  \\\n",
       "0          0       0            39.1           18.7              181.0   \n",
       "1          0       0            39.5           17.4              186.0   \n",
       "2          0       0            40.3           18.0              195.0   \n",
       "4          0       0            36.7           19.3              193.0   \n",
       "5          0       0            39.3           20.6              190.0   \n",
       "..       ...     ...             ...            ...                ...   \n",
       "338        2       1            47.2           13.7              214.0   \n",
       "340        2       1            46.8           14.3              215.0   \n",
       "341        2       1            50.4           15.7              222.0   \n",
       "342        2       1            45.2           14.8              212.0   \n",
       "343        2       1            49.9           16.1              213.0   \n",
       "\n",
       "     body_mass_g  sex  \n",
       "0         3750.0  0.0  \n",
       "1         3800.0  1.0  \n",
       "2         3250.0  1.0  \n",
       "4         3450.0  1.0  \n",
       "5         3650.0  0.0  \n",
       "..           ...  ...  \n",
       "338       4925.0  1.0  \n",
       "340       4850.0  1.0  \n",
       "341       5750.0  0.0  \n",
       "342       5200.0  1.0  \n",
       "343       5400.0  0.0  \n",
       "\n",
       "[333 rows x 7 columns]"
      ]
     },
     "execution_count": 6,
     "metadata": {},
     "output_type": "execute_result"
    }
   ],
   "source": [
    "df"
   ]
  },
  {
   "cell_type": "code",
   "execution_count": 33,
   "id": "1674bbad-58c6-4a6e-8eaa-8e3a9975a6be",
   "metadata": {},
   "outputs": [],
   "source": [
    "X = df.drop([\"species\"],axis=1).values"
   ]
  },
  {
   "cell_type": "code",
   "execution_count": 34,
   "id": "0d40e3c1-d3bc-45f6-9722-e2fe909fe064",
   "metadata": {},
   "outputs": [
    {
     "data": {
      "text/plain": [
       "array([[0.00e+00, 3.91e+01, 1.87e+01, 1.81e+02, 3.75e+03, 0.00e+00],\n",
       "       [0.00e+00, 3.95e+01, 1.74e+01, 1.86e+02, 3.80e+03, 1.00e+00],\n",
       "       [0.00e+00, 4.03e+01, 1.80e+01, 1.95e+02, 3.25e+03, 1.00e+00],\n",
       "       ...,\n",
       "       [1.00e+00, 5.04e+01, 1.57e+01, 2.22e+02, 5.75e+03, 0.00e+00],\n",
       "       [1.00e+00, 4.52e+01, 1.48e+01, 2.12e+02, 5.20e+03, 1.00e+00],\n",
       "       [1.00e+00, 4.99e+01, 1.61e+01, 2.13e+02, 5.40e+03, 0.00e+00]])"
      ]
     },
     "execution_count": 34,
     "metadata": {},
     "output_type": "execute_result"
    }
   ],
   "source": [
    "X"
   ]
  },
  {
   "cell_type": "code",
   "execution_count": 9,
   "id": "47e966d6-cc82-4598-ac64-1d7c9a2431ad",
   "metadata": {},
   "outputs": [],
   "source": [
    "y = df[\"species\"].values"
   ]
  },
  {
   "cell_type": "code",
   "execution_count": null,
   "id": "71d6917a-9abe-4b80-8ecb-c18e21294b83",
   "metadata": {},
   "outputs": [],
   "source": []
  },
  {
   "cell_type": "code",
   "execution_count": null,
   "id": "f2796cf3-a843-4928-8718-00a13d5bcd98",
   "metadata": {},
   "outputs": [],
   "source": []
  },
  {
   "cell_type": "code",
   "execution_count": 10,
   "id": "48fb93c3-ab19-40ac-9fc5-a2665a83da11",
   "metadata": {},
   "outputs": [],
   "source": [
    "X_train, X_test, y_train, y_test = train_test_split(X, y, test_size=0.25, random_state=15)"
   ]
  },
  {
   "cell_type": "code",
   "execution_count": null,
   "id": "4a0981d4-4a29-4f18-9bbb-18eadce438bb",
   "metadata": {},
   "outputs": [],
   "source": []
  },
  {
   "cell_type": "code",
   "execution_count": 11,
   "id": "205df637-2aac-4016-9a0b-5c9191f5e329",
   "metadata": {},
   "outputs": [],
   "source": [
    "X_train = torch.FloatTensor(X_train)\n",
    "X_test = torch.FloatTensor(X_test)\n",
    "y_train = torch.LongTensor(y_train)\n",
    "y_test = torch.LongTensor(y_test)"
   ]
  },
  {
   "cell_type": "code",
   "execution_count": 12,
   "id": "b5277754-f361-439b-9210-ff0aa85cd164",
   "metadata": {},
   "outputs": [
    {
     "data": {
      "text/plain": [
       "tensor([[2.0000e+00, 4.5700e+01, 1.7300e+01, 1.9300e+02, 3.6000e+03, 1.0000e+00],\n",
       "        [0.0000e+00, 3.4400e+01, 1.8400e+01, 1.8400e+02, 3.3250e+03, 1.0000e+00],\n",
       "        [1.0000e+00, 4.2700e+01, 1.3700e+01, 2.0800e+02, 3.9500e+03, 1.0000e+00],\n",
       "        ...,\n",
       "        [2.0000e+00, 4.6600e+01, 1.7800e+01, 1.9300e+02, 3.8000e+03, 1.0000e+00],\n",
       "        [2.0000e+00, 3.9700e+01, 1.7900e+01, 1.9300e+02, 4.2500e+03, 0.0000e+00],\n",
       "        [1.0000e+00, 4.5100e+01, 1.4500e+01, 2.0700e+02, 5.0500e+03, 1.0000e+00]])"
      ]
     },
     "execution_count": 12,
     "metadata": {},
     "output_type": "execute_result"
    }
   ],
   "source": [
    "X_train"
   ]
  },
  {
   "cell_type": "code",
   "execution_count": 13,
   "id": "b25780a3-9ff0-4b3c-9771-37dedc43629d",
   "metadata": {},
   "outputs": [],
   "source": [
    "class NeuralNetworkClassificationModel(nn.Module):\n",
    "    def __init__(self,input_dim,output_dim):\n",
    "        super(NeuralNetworkClassificationModel,self).__init__()\n",
    "        self.input_layer    = nn.Linear(input_dim,50)\n",
    "        self.hidden_layer1  = nn.Linear(50,60)\n",
    "        self.output_layer   = nn.Linear(60,output_dim)\n",
    "        self.relu = nn.ReLU()\n",
    "        self.tan = nn.Tanh()\n",
    "    \n",
    "    \n",
    "    def forward(self,x):\n",
    "        out =  self.relu(self.input_layer(x))\n",
    "        out =  self.relu(self.hidden_layer1(out))\n",
    "        out =  self.output_layer(out)\n",
    "        return out"
   ]
  },
  {
   "cell_type": "code",
   "execution_count": 14,
   "id": "d1bc57b7-5363-45cd-8228-f8964f4e949a",
   "metadata": {},
   "outputs": [],
   "source": [
    "input_dim  = 6 \n",
    "output_dim = 3\n",
    "model = NeuralNetworkClassificationModel(input_dim,output_dim)\n"
   ]
  },
  {
   "cell_type": "code",
   "execution_count": null,
   "id": "e513acba-0a34-409a-8c89-1207a3f38eda",
   "metadata": {},
   "outputs": [],
   "source": []
  },
  {
   "cell_type": "code",
   "execution_count": 15,
   "id": "fd8d62d4-f9c0-4edd-af3a-6d1cc2be6752",
   "metadata": {},
   "outputs": [],
   "source": [
    "learning_rate = 0.0005\n",
    "criterion = nn.CrossEntropyLoss()\n",
    "optimizer = torch.optim.Adam(model.parameters(),lr=learning_rate)"
   ]
  },
  {
   "cell_type": "code",
   "execution_count": 16,
   "id": "6babeafd-86a6-412f-a6af-026fd368ed80",
   "metadata": {},
   "outputs": [],
   "source": [
    "def train_network(model,optimizer,criterion,X_train,y_train,X_test,y_test,num_epochs,train_losses,test_losses):\n",
    "    for epoch in range(num_epochs):\n",
    "        #clear out the gradients from the last step loss.backward()\n",
    "        optimizer.zero_grad()\n",
    "        \n",
    "        #forward feed\n",
    "        output_train = model(X_train)\n",
    "\n",
    "        #calculate the loss\n",
    "        loss_train = criterion(output_train, y_train)\n",
    "        \n",
    "\n",
    "\n",
    "        #backward propagation: calculate gradients\n",
    "        loss_train.backward()\n",
    "\n",
    "        #update the weights\n",
    "        optimizer.step()\n",
    "\n",
    "        \n",
    "        output_test = model(X_test)\n",
    "        loss_test = criterion(output_test,y_test)\n",
    "\n",
    "        train_losses[epoch] = loss_train.item()\n",
    "        test_losses[epoch] = loss_test.item()\n",
    "\n",
    "        if (epoch + 1) % 50 == 0:\n",
    "            print(f\"Epoch {epoch+1}/{num_epochs}, Train Loss: {loss_train.item():.4f}, Test Loss: {loss_test.item():.4f}\")"
   ]
  },
  {
   "cell_type": "code",
   "execution_count": 17,
   "id": "03c12873-338c-4e07-a55f-6d8628a00abd",
   "metadata": {},
   "outputs": [],
   "source": [
    "num_epochs = 2000\n",
    "train_losses = np.zeros(num_epochs)\n",
    "test_losses  = np.zeros(num_epochs)"
   ]
  },
  {
   "cell_type": "code",
   "execution_count": 18,
   "id": "e7fcb0ca-7430-47c1-9b5c-bc0c7e44d234",
   "metadata": {},
   "outputs": [
    {
     "name": "stdout",
     "output_type": "stream",
     "text": [
      "Epoch 50/2000, Train Loss: 1.2574, Test Loss: 1.5381\n",
      "Epoch 100/2000, Train Loss: 0.8711, Test Loss: 0.8256\n",
      "Epoch 150/2000, Train Loss: 0.7905, Test Loss: 0.7633\n",
      "Epoch 200/2000, Train Loss: 0.7329, Test Loss: 0.7118\n",
      "Epoch 250/2000, Train Loss: 0.6918, Test Loss: 0.6747\n",
      "Epoch 300/2000, Train Loss: 0.6620, Test Loss: 0.6478\n",
      "Epoch 350/2000, Train Loss: 0.6386, Test Loss: 0.6262\n",
      "Epoch 400/2000, Train Loss: 0.6180, Test Loss: 0.6067\n",
      "Epoch 450/2000, Train Loss: 0.5987, Test Loss: 0.5879\n",
      "Epoch 500/2000, Train Loss: 0.6098, Test Loss: 0.6288\n",
      "Epoch 550/2000, Train Loss: 0.5830, Test Loss: 0.5957\n",
      "Epoch 600/2000, Train Loss: 0.5799, Test Loss: 0.6021\n",
      "Epoch 650/2000, Train Loss: 0.5545, Test Loss: 0.5836\n",
      "Epoch 700/2000, Train Loss: 3.7884, Test Loss: 5.7535\n",
      "Epoch 750/2000, Train Loss: 0.7203, Test Loss: 1.9448\n",
      "Epoch 800/2000, Train Loss: 1.2508, Test Loss: 0.8250\n",
      "Epoch 850/2000, Train Loss: 0.5332, Test Loss: 0.5770\n",
      "Epoch 900/2000, Train Loss: 0.6701, Test Loss: 0.4445\n",
      "Epoch 950/2000, Train Loss: 0.6278, Test Loss: 0.8713\n",
      "Epoch 1000/2000, Train Loss: 0.5035, Test Loss: 0.4733\n",
      "Epoch 1050/2000, Train Loss: 0.4303, Test Loss: 0.4023\n",
      "Epoch 1100/2000, Train Loss: 0.4203, Test Loss: 0.3962\n",
      "Epoch 1150/2000, Train Loss: 0.4103, Test Loss: 0.3870\n",
      "Epoch 1200/2000, Train Loss: 0.4004, Test Loss: 0.3778\n",
      "Epoch 1250/2000, Train Loss: 0.3905, Test Loss: 0.3687\n",
      "Epoch 1300/2000, Train Loss: 0.3806, Test Loss: 0.3595\n",
      "Epoch 1350/2000, Train Loss: 0.3708, Test Loss: 0.3503\n",
      "Epoch 1400/2000, Train Loss: 0.3610, Test Loss: 0.3411\n",
      "Epoch 1450/2000, Train Loss: 0.3512, Test Loss: 0.3319\n",
      "Epoch 1500/2000, Train Loss: 0.3415, Test Loss: 0.3227\n",
      "Epoch 1550/2000, Train Loss: 0.3319, Test Loss: 0.3136\n",
      "Epoch 1600/2000, Train Loss: 0.3224, Test Loss: 0.3044\n",
      "Epoch 1650/2000, Train Loss: 0.3129, Test Loss: 0.2953\n",
      "Epoch 1700/2000, Train Loss: 0.3035, Test Loss: 0.2863\n",
      "Epoch 1750/2000, Train Loss: 0.2942, Test Loss: 0.2773\n",
      "Epoch 1800/2000, Train Loss: 0.2850, Test Loss: 0.2684\n",
      "Epoch 1850/2000, Train Loss: 0.3169, Test Loss: 0.2811\n",
      "Epoch 1900/2000, Train Loss: 0.3014, Test Loss: 0.2738\n",
      "Epoch 1950/2000, Train Loss: 0.2676, Test Loss: 0.2447\n",
      "Epoch 2000/2000, Train Loss: 0.2615, Test Loss: 0.2357\n"
     ]
    }
   ],
   "source": [
    "train_network(model,optimizer,criterion,X_train,y_train,X_test,y_test,num_epochs,train_losses,test_losses)"
   ]
  },
  {
   "cell_type": "code",
   "execution_count": 19,
   "id": "7fdc1aed-5b30-4a74-a157-3b7ca81db205",
   "metadata": {
    "scrolled": true
   },
   "outputs": [
    {
     "data": {
      "image/png": "[encoded data removed]",
      "text/plain": [
       "<Figure size 500x500 with 1 Axes>"
      ]
     },
     "metadata": {},
     "output_type": "display_data"
    }
   ],
   "source": [
    "import matplotlib.pyplot as plt\n",
    "%matplotlib inline\n",
    "plt.figure(figsize=(5,5))\n",
    "plt.plot(train_losses, label='train loss')\n",
    "plt.plot(test_losses, label='test loss')\n",
    "plt.legend()\n",
    "plt.show()"
   ]
  },
  {
   "cell_type": "code",
   "execution_count": 20,
   "id": "d47ceef2-e232-4802-ac14-943c5bcc717b",
   "metadata": {},
   "outputs": [],
   "source": [
    "predictions_train = []\n",
    "predictions_test =  []\n",
    "with torch.no_grad():\n",
    "    predictions_train = model(X_train)\n",
    "    predictions_test = model(X_test)"
   ]
  },
  {
   "cell_type": "code",
   "execution_count": 21,
   "id": "3d074536-d8f4-4e93-8964-af6378b7b99f",
   "metadata": {},
   "outputs": [],
   "source": [
    "def get_accuracy_multiclass(pred_arr,original_arr):\n",
    "    if len(pred_arr)!=len(original_arr):\n",
    "        return False\n",
    "    pred_arr = pred_arr.numpy()\n",
    "    original_arr = original_arr.numpy()\n",
    "    final_pred= []\n",
    "    # we will get something like this in the pred_arr [32.1680,12.9350,-58.4877]\n",
    "    # so will be taking the index of that argument which has the highest value here 32.1680 which corresponds to 0th index\n",
    "    for i in range(len(pred_arr)):\n",
    "        final_pred.append(np.argmax(pred_arr[i]))\n",
    "    final_pred = np.array(final_pred)\n",
    "    count = 0\n",
    "    #here we are doing a simple comparison between the predicted_arr and the original_arr to get the final accuracy\n",
    "    for i in range(len(original_arr)):\n",
    "        if final_pred[i] == original_arr[i]:\n",
    "            count+=1\n",
    "    return count/len(final_pred)"
   ]
  },
  {
   "cell_type": "code",
   "execution_count": 22,
   "id": "0beb6f3c-6ecf-4df7-ae06-5f12b9bef2ec",
   "metadata": {},
   "outputs": [],
   "source": [
    "train_acc = get_accuracy_multiclass(predictions_train,y_train)\n",
    "test_acc  = get_accuracy_multiclass(predictions_test,y_test)"
   ]
  },
  {
   "cell_type": "code",
   "execution_count": 23,
   "id": "c878847c-f641-437b-80b8-921cf67a5cfa",
   "metadata": {},
   "outputs": [
    {
     "name": "stdout",
     "output_type": "stream",
     "text": [
      "Training Accuracy: 94.779\n",
      "Test Accuracy: 100.0\n"
     ]
    }
   ],
   "source": [
    "print(f\"Training Accuracy: {round(train_acc*100,3)}\")\n",
    "print(f\"Test Accuracy: {round(test_acc*100,3)}\")"
   ]
  },
  {
   "cell_type": "code",
   "execution_count": 24,
   "id": "2c0e61f0-7a91-433f-8c18-63e90e97246d",
   "metadata": {},
   "outputs": [
    {
     "data": {
      "text/plain": [
       "tensor(0)"
      ]
     },
     "execution_count": 24,
     "metadata": {},
     "output_type": "execute_result"
    }
   ],
   "source": [
    "a = torch.argmax(model(X_train[101]))\n",
    "a"
   ]
  },
  {
   "cell_type": "code",
   "execution_count": 25,
   "id": "3d52fea6-f544-4755-bf55-cfb22798a813",
   "metadata": {},
   "outputs": [
    {
     "data": {
      "text/plain": [
       "tensor(2)"
      ]
     },
     "execution_count": 25,
     "metadata": {},
     "output_type": "execute_result"
    }
   ],
   "source": [
    "y_train[101]"
   ]
  },
  {
   "cell_type": "code",
   "execution_count": 26,
   "id": "d06f88eb-c2d2-436d-9d63-cff26838fc38",
   "metadata": {},
   "outputs": [],
   "source": [
    "out ={0: 'Adelie',1 : 'Chinstrap',2: 'Gentoo'}"
   ]
  },
  {
   "cell_type": "code",
   "execution_count": 27,
   "id": "e67c422a-0412-43e5-ac7b-56e26f43128d",
   "metadata": {},
   "outputs": [],
   "source": [
    "device = torch.device('cuda' if torch.cuda.is_available() else 'cpu')"
   ]
  },
  {
   "cell_type": "code",
   "execution_count": 28,
   "id": "05f3c69b-34c4-4172-8454-c771cd5907c3",
   "metadata": {},
   "outputs": [
    {
     "data": {
      "text/plain": [
       "device(type='cuda')"
      ]
     },
     "execution_count": 28,
     "metadata": {},
     "output_type": "execute_result"
    }
   ],
   "source": [
    "device"
   ]
  },
  {
   "cell_type": "code",
   "execution_count": 29,
   "id": "1e475c88-c7f7-4761-831e-52d43ad449c0",
   "metadata": {},
   "outputs": [],
   "source": [
    "torch.save(model.state_dict(),\"penguin.pth\")"
   ]
  },
  {
   "cell_type": "code",
   "execution_count": 30,
   "id": "2f8ba0af-34dd-4550-8576-54243e9e0afd",
   "metadata": {},
   "outputs": [
    {
     "data": {
      "text/plain": [
       "tensor([1.0000e+00, 4.2000e+01, 1.3500e+01, 2.1000e+02, 4.1500e+03, 1.0000e+00])"
      ]
     },
     "execution_count": 30,
     "metadata": {},
     "output_type": "execute_result"
    }
   ],
   "source": [
    "X_train[101]"
   ]
  },
  {
   "cell_type": "code",
   "execution_count": 38,
   "id": "40641fff-d4c9-4fc1-8a64-63f13767bfc8",
   "metadata": {},
   "outputs": [],
   "source": [
    "species_mapping = {0:'Adelie',1:'Chinstrap',2:'Gentoo'}\n",
    "species = species_mapping.get(0)"
   ]
  },
  {
   "cell_type": "code",
   "execution_count": 39,
   "id": "a4e9b869-036e-48e4-8a49-d16fce3a59c8",
   "metadata": {},
   "outputs": [
    {
     "data": {
      "text/plain": [
       "'Adelie'"
      ]
     },
     "execution_count": 39,
     "metadata": {},
     "output_type": "execute_result"
    }
   ],
   "source": [
    "species"
   ]
  },
  {
   "cell_type": "code",
   "execution_count": null,
   "id": "36396eca-7c9a-4a29-8669-3bca0272b267",
   "metadata": {},
   "outputs": [],
   "source": []
  }
 ],
 "metadata": {
  "kernelspec": {
   "display_name": "Python 3 (ipykernel)",
   "language": "python",
   "name": "python3"
  },
  "language_info": {
   "codemirror_mode": {
    "name": "ipython",
    "version": 3
   },
   "file_extension": ".py",
   "mimetype": "text/x-python",
   "name": "python",
   "nbconvert_exporter": "python",
   "pygments_lexer": "ipython3",
   "version": "3.12.4"
  }
 },
 "nbformat": 4,
 "nbformat_minor": 5
}
